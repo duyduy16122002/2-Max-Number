{
 "cells": [
  {
   "cell_type": "code",
   "execution_count": 38,
   "id": "cae85e0b",
   "metadata": {},
   "outputs": [
    {
     "name": "stdout",
     "output_type": "stream",
     "text": [
      "[22, 6]\n"
     ]
    }
   ],
   "source": [
    "lst = [1,2,5,22,6,4]\n",
    "max_lst = []\n",
    "max_lst.append(max(lst))\n",
    "temp = lst.copy()\n",
    "temp.remove(max_lst[0])\n",
    "if len(temp) >= 1:\n",
    "    max_lst.append(max(temp))\n",
    "else:\n",
    "    max_lst.append('Null')\n",
    "print(max_lst)"
   ]
  }
 ],
 "metadata": {
  "kernelspec": {
   "display_name": "Python 3 (ipykernel)",
   "language": "python",
   "name": "python3"
  },
  "language_info": {
   "codemirror_mode": {
    "name": "ipython",
    "version": 3
   },
   "file_extension": ".py",
   "mimetype": "text/x-python",
   "name": "python",
   "nbconvert_exporter": "python",
   "pygments_lexer": "ipython3",
   "version": "3.9.12"
  }
 },
 "nbformat": 4,
 "nbformat_minor": 5
}
